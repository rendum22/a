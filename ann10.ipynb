{
 "cells": [
  {
   "cell_type": "code",
   "execution_count": 1,
   "id": "a68f7078-d03a-4d55-8992-8ed620cb9c1e",
   "metadata": {},
   "outputs": [
    {
     "name": "stderr",
     "output_type": "stream",
     "text": [
      "2025-05-01 12:47:45.901885: E external/local_xla/xla/stream_executor/cuda/cuda_fft.cc:467] Unable to register cuFFT factory: Attempting to register factory for plugin cuFFT when one has already been registered\n",
      "WARNING: All log messages before absl::InitializeLog() is called are written to STDERR\n",
      "E0000 00:00:1746083865.928238    7280 cuda_dnn.cc:8579] Unable to register cuDNN factory: Attempting to register factory for plugin cuDNN when one has already been registered\n",
      "E0000 00:00:1746083865.935905    7280 cuda_blas.cc:1407] Unable to register cuBLAS factory: Attempting to register factory for plugin cuBLAS when one has already been registered\n",
      "W0000 00:00:1746083865.955209    7280 computation_placer.cc:177] computation placer already registered. Please check linkage and avoid linking the same target more than once.\n",
      "W0000 00:00:1746083865.955238    7280 computation_placer.cc:177] computation placer already registered. Please check linkage and avoid linking the same target more than once.\n",
      "W0000 00:00:1746083865.955242    7280 computation_placer.cc:177] computation placer already registered. Please check linkage and avoid linking the same target more than once.\n",
      "W0000 00:00:1746083865.955244    7280 computation_placer.cc:177] computation placer already registered. Please check linkage and avoid linking the same target more than once.\n",
      "/home/sagar-singh/anaconda3/lib/python3.12/site-packages/keras/src/layers/convolutional/base_conv.py:107: UserWarning: Do not pass an `input_shape`/`input_dim` argument to a layer. When using Sequential models, prefer using an `Input(shape)` object as the first layer in the model instead.\n",
      "  super().__init__(activity_regularizer=activity_regularizer, **kwargs)\n",
      "2025-05-01 12:47:56.230132: E external/local_xla/xla/stream_executor/cuda/cuda_platform.cc:51] failed call to cuInit: INTERNAL: CUDA error: Failed call to cuInit: UNKNOWN ERROR (303)\n"
     ]
    },
    {
     "name": "stdout",
     "output_type": "stream",
     "text": [
      "Epoch 1/3\n"
     ]
    },
    {
     "name": "stderr",
     "output_type": "stream",
     "text": [
      "2025-05-01 12:47:57.743428: W external/local_xla/xla/tsl/framework/cpu_allocator_impl.cc:83] Allocation of 188160000 exceeds 10% of free system memory.\n"
     ]
    },
    {
     "name": "stdout",
     "output_type": "stream",
     "text": [
      "\u001b[1m1874/1875\u001b[0m \u001b[32m━━━━━━━━━━━━━━━━━━━\u001b[0m\u001b[37m━\u001b[0m \u001b[1m0s\u001b[0m 20ms/step - accuracy: 0.8940 - loss: 0.3512"
     ]
    },
    {
     "name": "stderr",
     "output_type": "stream",
     "text": [
      "2025-05-01 12:48:40.651725: W external/local_xla/xla/tsl/framework/cpu_allocator_impl.cc:83] Allocation of 31360000 exceeds 10% of free system memory.\n"
     ]
    },
    {
     "name": "stdout",
     "output_type": "stream",
     "text": [
      "\u001b[1m1875/1875\u001b[0m \u001b[32m━━━━━━━━━━━━━━━━━━━━\u001b[0m\u001b[37m\u001b[0m \u001b[1m41s\u001b[0m 21ms/step - accuracy: 0.8940 - loss: 0.3510 - val_accuracy: 0.9826 - val_loss: 0.0542\n",
      "Epoch 2/3\n",
      "\u001b[1m1875/1875\u001b[0m \u001b[32m━━━━━━━━━━━━━━━━━━━━\u001b[0m\u001b[37m\u001b[0m \u001b[1m38s\u001b[0m 21ms/step - accuracy: 0.9842 - loss: 0.0510 - val_accuracy: 0.9858 - val_loss: 0.0403\n",
      "Epoch 3/3\n",
      "\u001b[1m1875/1875\u001b[0m \u001b[32m━━━━━━━━━━━━━━━━━━━━\u001b[0m\u001b[37m\u001b[0m \u001b[1m41s\u001b[0m 22ms/step - accuracy: 0.9888 - loss: 0.0377 - val_accuracy: 0.9881 - val_loss: 0.0400\n",
      "\u001b[1m 14/313\u001b[0m \u001b[37m━━━━━━━━━━━━━━━━━━━━\u001b[0m \u001b[1m2s\u001b[0m 8ms/step - accuracy: 0.9926 - loss: 0.0188"
     ]
    },
    {
     "name": "stderr",
     "output_type": "stream",
     "text": [
      "2025-05-01 12:50:02.024799: W external/local_xla/xla/tsl/framework/cpu_allocator_impl.cc:83] Allocation of 31360000 exceeds 10% of free system memory.\n"
     ]
    },
    {
     "name": "stdout",
     "output_type": "stream",
     "text": [
      "\u001b[1m313/313\u001b[0m \u001b[32m━━━━━━━━━━━━━━━━━━━━\u001b[0m\u001b[37m\u001b[0m \u001b[1m2s\u001b[0m 7ms/step - accuracy: 0.9854 - loss: 0.0471\n",
      "Test accuracy: 0.988099992275238\n"
     ]
    }
   ],
   "source": [
    " import tensorflow as tf \n",
    "# Load the MNIST dataset \n",
    "(x_train, y_train), (x_test, y_test) = tf.keras.datasets.mnist.load_data() \n",
    "# Normalize pixel values to [0, 1] \n",
    "x_train = x_train.astype('float32') / 255.0 \n",
    "x_test = x_test.astype('float32') / 255.0 \n",
    "# Add a channel dimension to the images \n",
    "x_train = x_train[..., tf.newaxis] \n",
    "x_test = x_test[..., tf.newaxis] \n",
    "# Set up the Layers of the network \n",
    "model = tf.keras.models. Sequential ([ \n",
    "tf.keras.layers. Conv2D (32, (3, 3), activation= 'relu', input_shape=(28, 28, 1)), \n",
    "tf.keras.layers. MaxPooling2D((2, 2)), \n",
    "tf.keras.layers. Conv2D (64, (3, 3), activation= 'relu'), \n",
    "tf.keras.layers. MaxPooling2D((2, 2)), \n",
    "tf.keras.layers. Flatten(), \n",
    "tf.keras.layers. Dense (10, activation='softmax') \n",
    "])\n",
    "# Compile the model \n",
    "model.compile(optimizer='adam', \n",
    "                loss='sparse_categorical_crossentropy', \n",
    "                metrics=['accuracy']) \n",
    "# Train the model on the MNIST dataset \n",
    "model.fit(x_train, y_train, epochs=3, validation_data=(x_test, y_test)) \n",
    "#Evaluate the model on the MNIST test data \n",
    "test_loss, test_acc = model.evaluate(x_test, y_test) \n",
    "print('Test accuracy:', test_acc) "
   ]
  },
  {
   "cell_type": "code",
   "execution_count": 8,
   "id": "e13134bd-37ea-4c36-a99c-4e3999aff128",
   "metadata": {},
   "outputs": [
    {
     "data": {
      "image/png": "[encoded data removed]",
      "text/plain": [
       "<Figure size 640x480 with 1 Axes>"
      ]
     },
     "metadata": {},
     "output_type": "display_data"
    },
    {
     "name": "stdout",
     "output_type": "stream",
     "text": [
      "\u001b[1m1/1\u001b[0m \u001b[32m━━━━━━━━━━━━━━━━━━━━\u001b[0m\u001b[37m\u001b[0m \u001b[1m0s\u001b[0m 42ms/step\n",
      "Predicted Label: 9\n"
     ]
    }
   ],
   "source": [
    "import numpy as np \n",
    "import matplotlib.pyplot as plt\n",
    "\n",
    "# Predict a random sample\n",
    "index = np.random.randint(0, len(x_test))\n",
    "plt.imshow(x_test[index], cmap='gray')\n",
    "plt.title(f\"True Label: {y_test[index]}\")\n",
    "plt.show()\n",
    "prediction = np.argmax(model.predict(x_test[index].reshape(1, 28, 28, 1)))\n",
    "print(\"Predicted Label:\", prediction)"
   ]
  },
  {
   "cell_type": "code",
   "execution_count": null,
   "id": "ce533503-c2df-4941-886d-ccd162287e5d",
   "metadata": {},
   "outputs": [],
   "source": []
  }
 ],
 "metadata": {
  "kernelspec": {
   "display_name": "Python 3 (ipykernel)",
   "language": "python",
   "name": "python3"
  },
  "language_info": {
   "codemirror_mode": {
    "name": "ipython",
    "version": 3
   },
   "file_extension": ".py",
   "mimetype": "text/x-python",
   "name": "python",
   "nbconvert_exporter": "python",
   "pygments_lexer": "ipython3",
   "version": "3.12.7"
  }
 },
 "nbformat": 4,
 "nbformat_minor": 5
}
