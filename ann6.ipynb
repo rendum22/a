{
 "cells": [
  {
   "cell_type": "code",
   "execution_count": 1,
   "id": "0db94762-06d7-44d5-a503-2cb9aaee6b03",
   "metadata": {},
   "outputs": [],
   "source": [
    "import numpy as np "
   ]
  },
  {
   "cell_type": "code",
   "execution_count": 2,
   "id": "a40e83cf-eb62-4caa-ba72-aa82e76dce75",
   "metadata": {},
   "outputs": [],
   "source": [
    "class NeuralNetwork: \n",
    "    def __init__(self, input_size, hidden_size, output_size): \n",
    "        self.input_size = input_size \n",
    "        self.hidden_size = hidden_size \n",
    "        self.output_size = output_size \n",
    "        #initialize weights \n",
    "        self.W1 = np.random.randn(self.input_size, self.hidden_size) \n",
    "        self.W2 = np.random.randn(self.hidden_size, self.output_size) \n",
    "    def sigmoid(self, x): \n",
    "        return 1 / (1 + np.exp(-x)) \n",
    "    def sigmoid_derivative(self, x): \n",
    "        return x * (1 - x) \n",
    "    def forward(self, X): \n",
    "    #calculate output of hidden layer \n",
    "        self.z = np.dot (X, self.W1) \n",
    "        self.z2 = self.sigmoid(self.z) \n",
    "    #calculate output of output Layer \n",
    "        self.z3 = np.dot(self.z2, self.W2) \n",
    "        output = self.sigmoid(self.z3) \n",
    "        return output \n",
    "    def backward(self, X, y, output): \n",
    "        #calculate the error and derivative of error for output Layer \n",
    "        self.output_error = y - output \n",
    "        self.output_delta = self.output_error* self.sigmoid_derivative(output) \n",
    "    #calculate error and derivative of error for hidden Layer \n",
    "        self.z2_error = self.output_delta.dot(self.W2.T) \n",
    "        self.z2_delta = self.z2_error* self.sigmoid_derivative(self.z2) \n",
    "        #update weights \n",
    "        self.W1 += X.T.dot (self.z2_delta) \n",
    "        self.W2 += self.z2.T.dot (self.output_delta) \n",
    "    def train(self, x, y, epochs): \n",
    "        for i in range(epochs): \n",
    "#forward propagation \n",
    "            output = self.forward(X) \n",
    "#backward propagation \n",
    "            self.backward (X, y, output) "
   ]
  },
  {
   "cell_type": "code",
   "execution_count": 3,
   "id": "4b27c80e-393a-4931-928e-06fa6a480dc4",
   "metadata": {},
   "outputs": [],
   "source": [
    "#create a neural network object by specifying the number of inputs, hidden units, \n",
    "nn = NeuralNetwork(input_size=2, hidden_size=3, output_size=1) \n"
   ]
  },
  {
   "cell_type": "code",
   "execution_count": 4,
   "id": "a0bb6389-b267-4585-a38b-652c6c52ad50",
   "metadata": {},
   "outputs": [],
   "source": [
    "#specify train data 'X' and target output 'y' \n",
    "X = np.array([[0, 0], [0, 1], [1, 0], [1, 1]]) \n",
    "y = np.array([[0], [1], [1], [0]]) \n",
    "#train the network \n",
    "nn.train(X, y, epochs=10000) "
   ]
  },
  {
   "cell_type": "code",
   "execution_count": 5,
   "id": "f1c788f7-5834-4d89-8a12-c35a0ce3a639",
   "metadata": {},
   "outputs": [
    {
     "name": "stdout",
     "output_type": "stream",
     "text": [
      "[[0.91179406]\n",
      " [0.97328678]\n",
      " [0.90485497]\n",
      " [0.51672324]]\n"
     ]
    }
   ],
   "source": [
    "#make predictions on new data \n",
    "new_data = np.array([[0, 0.5], [0, 0.8], [1, 0.2], [1, 0.6]]) \n",
    "predictions = nn. forward(new_data) \n",
    "print(predictions) "
   ]
  },
  {
   "cell_type": "code",
   "execution_count": null,
   "id": "99bd450f-ce71-4727-a227-c843fce33907",
   "metadata": {},
   "outputs": [],
   "source": []
  }
 ],
 "metadata": {
  "kernelspec": {
   "display_name": "Python 3 (ipykernel)",
   "language": "python",
   "name": "python3"
  },
  "language_info": {
   "codemirror_mode": {
    "name": "ipython",
    "version": 3
   },
   "file_extension": ".py",
   "mimetype": "text/x-python",
   "name": "python",
   "nbconvert_exporter": "python",
   "pygments_lexer": "ipython3",
   "version": "3.12.7"
  }
 },
 "nbformat": 4,
 "nbformat_minor": 5
}
