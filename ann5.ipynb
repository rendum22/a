{
 "cells": [
  {
   "cell_type": "code",
   "execution_count": 1,
   "id": "c54e9674-f302-47ae-8241-9100d1220c2a",
   "metadata": {},
   "outputs": [],
   "source": [
    "import numpy as np"
   ]
  },
  {
   "cell_type": "code",
   "execution_count": 13,
   "id": "aea04d30-29b9-4151-974a-0b3df33045df",
   "metadata": {},
   "outputs": [],
   "source": [
    "class BAM: \n",
    "    def __init__(self, input_size, output_size): \n",
    "        self.weights = np.zeros((output_size, input_size)) \n",
    "    def train(self, input_patterns, output_patterns): \n",
    "        for i in range(input_patterns.shape[0]): \n",
    "            X = input_patterns[i] \n",
    "            y = output_patterns[i] \n",
    "            self.weights += np.outer (y, X) \n",
    "    def recall_input(self, output_patterns): \n",
    "        return np.dot (self.weights, output_patterns) \n",
    "    def recall_output(self, input_patterns): \n",
    "        return np.dot (self.weights, input_patterns) "
   ]
  },
  {
   "cell_type": "code",
   "execution_count": 14,
   "id": "95a043a2-0094-41d9-81f4-2fb5800ff7c2",
   "metadata": {},
   "outputs": [],
   "source": [
    "input_size = 2 \n",
    "output_size = 2 \n",
    "bam = BAM(input_size,output_size) "
   ]
  },
  {
   "cell_type": "code",
   "execution_count": 15,
   "id": "373522b6-0c4f-4e95-ad1f-963792f57b3a",
   "metadata": {},
   "outputs": [],
   "source": [
    "input_patterns = np.array([[1, -1], [-1, 1]]) \n",
    "output_patterns = np.array([[-1, 1], [1, -1]]) \n",
    "bam.train(input_patterns, output_patterns) "
   ]
  },
  {
   "cell_type": "code",
   "execution_count": 16,
   "id": "82f989b4-3155-4d0b-b10c-5b323a01ccf0",
   "metadata": {},
   "outputs": [
    {
     "name": "stdout",
     "output_type": "stream",
     "text": [
      "Input: [ 1 -1]\n",
      "Recalled Output: [-4.  4.]\n"
     ]
    }
   ],
   "source": [
    "test_input = np.array([1, -1]) \n",
    "output_recall = bam.recall_output (test_input) \n",
    "print(\"Input:\", test_input) \n",
    "print(\"Recalled Output:\", output_recall) \n"
   ]
  },
  {
   "cell_type": "code",
   "execution_count": 17,
   "id": "ad7c595c-f473-49c3-a84f-e519110efe82",
   "metadata": {},
   "outputs": [
    {
     "name": "stdout",
     "output_type": "stream",
     "text": [
      "Input Recall: [ 4. -4.]\n",
      "Recalled Output:  [-1  1]\n"
     ]
    }
   ],
   "source": [
    "test_output = np.array([-1, 1]) \n",
    "input_recall = bam.recall_input(test_output) \n",
    "print(\"Input Recall:\", input_recall) \n",
    "print(\"Recalled Output: \", test_output) "
   ]
  },
  {
   "cell_type": "code",
   "execution_count": null,
   "id": "d19d87cc-2be7-41c4-8e52-9ae989c54508",
   "metadata": {},
   "outputs": [],
   "source": []
  }
 ],
 "metadata": {
  "kernelspec": {
   "display_name": "Python 3 (ipykernel)",
   "language": "python",
   "name": "python3"
  },
  "language_info": {
   "codemirror_mode": {
    "name": "ipython",
    "version": 3
   },
   "file_extension": ".py",
   "mimetype": "text/x-python",
   "name": "python",
   "nbconvert_exporter": "python",
   "pygments_lexer": "ipython3",
   "version": "3.12.7"
  }
 },
 "nbformat": 4,
 "nbformat_minor": 5
}
