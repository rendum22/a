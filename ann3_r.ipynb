{
 "cells": [
  {
   "cell_type": "code",
   "execution_count": 1,
   "id": "ca331326-6b63-423c-a2b4-c02bd5badc6a",
   "metadata": {},
   "outputs": [],
   "source": [
    "import numpy as np \n",
    "# Define input data and target values \n",
    "input_data = np.array([[1,1,1,0,1,1,1], # 0\n",
    "                        [0,0,1,0,0,1,0], # 1 \n",
    "                        [1,0,1,1,1,0,1], # 2 \n",
    "                        [1,0,1,1,0,1,1], # 3 \n",
    "                        [0,1,1,1,0,1,0], # 4 \n",
    "                        [1,1,0,1,0,1,1], # 5 \n",
    "                        [1,1,0,1,1,1,1], # 6 \n",
    "                        [1,0,1,0,0,1,0], # 7 \n",
    "                        [1,1,1,1,1,1,1], # 8 \n",
    "                        [1,1,1,1,0,1,1]]) # 9 \n",
    "target_values = np.array([[1,0], # Even \n",
    "                            [0,1], # Odd \n",
    "                            [1,0], # Even \n",
    "                            [0,1], # Odd \n",
    "                            [1,0], # Even \n",
    "                            [0,1], # Odd \n",
    "                            [1,0], # Even \n",
    "                            [0,1], # Odd \n",
    "                            [1,0], # Even \n",
    "                            [0,1]]) # Odd \n"
   ]
  },
  {
   "cell_type": "code",
   "execution_count": 9,
   "id": "abd281b5-04ce-4654-a817-33dfa2e40f78",
   "metadata": {},
   "outputs": [],
   "source": [
    " # Define the Perceptron Neural Network class \n",
    "class PerceptronNN: \n",
    "    def __init__(self, num_inputs, num_outputs): \n",
    "        self.weights = np.zeros((num_inputs, num_outputs)) \n",
    "        self.bias = np.zeros(num_outputs) \n",
    "    def activation(self, x): \n",
    "        return 1 if x >= 0 else 0 \n",
    "    def feedforward(self, inputs): \n",
    "        net = np.dot(inputs, self.weights) + self.bias \n",
    "        output = np.array([self.activation (x) for x in net]) \n",
    "        return output \n",
    "    def train(self, input_data, target_values, learning_rate, epochs): \n",
    "        for epoch in range(epochs): \n",
    "            errors = 0 \n",
    "            for i, input in enumerate(input_data): \n",
    "                target = target_values[i] \n",
    "                output = self.feedforward (input) \n",
    "                error=target-output  \n",
    "                self.weights += learning_rate * np.outer (input, error) \n",
    "                self.bias += learning_rate * error\n",
    "                errors += np.abs(error).sum() "
   ]
  },
  {
   "cell_type": "code",
   "execution_count": 10,
   "id": "1fa18264-b979-4484-94d9-4b8d4da3643a",
   "metadata": {},
   "outputs": [
    {
     "name": "stdout",
     "output_type": "stream",
     "text": [
      "Odd\n",
      "Even\n",
      "Even\n"
     ]
    }
   ],
   "source": [
    "# Train the Perceptron Neural Network \n",
    "perceptron_nn = PerceptronNN(num_inputs=7, num_outputs=2) \n",
    "perceptron_nn.train(input_data, target_values, learning_rate=0.1, epochs=100) \n",
    "# Test the Perceptron Neural Network on some sample inputs \n",
    "input_test = np.array([[1,1,0,1,0,1,1], # 5 \n",
    "                       [1,1,1,0,1,1,1], # 0 \n",
    "                        [1,1,1,1,1,1,1]]) # 8 \n",
    "for input in input_test: \n",
    "    output = perceptron_nn.feedforward(input) \n",
    "    if output[0] == 1: \n",
    "        print(\"Even\") \n",
    "    else: \n",
    "        print(\"Odd\") "
   ]
  },
  {
   "cell_type": "code",
   "execution_count": 16,
   "id": "35ac9e0f-29ee-4c14-9870-5046cf781127",
   "metadata": {},
   "outputs": [],
   "source": [
    "\n",
    "\n",
    "# Step function for binary classification\n",
    "def step(x):\n",
    "    return 1 if x >= 0 else 0\n",
    "\n",
    "# Prepare training data (ASCII 0-9 in 8-bit binary)\n",
    "training_inputs = []\n",
    "labels = []\n",
    "\n",
    "for i in range(10):\n",
    "    ascii_value = ord(str(i))\n",
    "    binary = format(ascii_value, '08b')\n",
    "    inputs = [int(bit) for bit in binary]\n",
    "    training_inputs.append(inputs)\n",
    "    labels.append(1 if i % 2 == 0 else 0)\n",
    "    \n",
    "\n",
    "\n",
    "# Initialize weights randomly and bias\n",
    "weights = np.random.rand(8)\n",
    "bias = np.random.rand()\n",
    "learning_rate = 0.1\n",
    "epochs = 100\n",
    "\n",
    "# Train the perceptron\n",
    "for epoch in range(epochs):\n",
    "    for i in range(10):\n",
    "        x = np.array(training_inputs[i])\n",
    "        y = labels[i]\n",
    "        output = step(np.dot(x, weights) + bias)\n",
    "        error = y - output\n",
    "        weights += learning_rate * error * x\n",
    "        bias += learning_rate * error\n",
    "\n"
   ]
  },
  {
   "cell_type": "code",
   "execution_count": 18,
   "id": "cedbf5b9",
   "metadata": {},
   "outputs": [
    {
     "name": "stdout",
     "output_type": "stream",
     "text": [
      "3 is Odd\n"
     ]
    }
   ],
   "source": [
    "# Test the perceptron\n",
    "num = input(\"Enter a number (0–9): \"); \n",
    "ascii_value = ord(str(num))\n",
    "binary_input = np.array([int(bit) for bit in format(ascii_value, '08b')])\n",
    "output = step(np.dot(binary_input, weights) + bias)\n",
    "\n",
    "print(f\"{num} is {'Even' if output == 1 else 'Odd'}\")"
   ]
  },
  {
   "cell_type": "code",
   "execution_count": null,
   "id": "7bd07468",
   "metadata": {},
   "outputs": [],
   "source": []
  },
  {
   "cell_type": "code",
   "execution_count": null,
   "id": "76a63acf",
   "metadata": {},
   "outputs": [],
   "source": []
  }
 ],
 "metadata": {
  "kernelspec": {
   "display_name": "Python 3 (ipykernel)",
   "language": "python",
   "name": "python3"
  },
  "language_info": {
   "codemirror_mode": {
    "name": "ipython",
    "version": 3
   },
   "file_extension": ".py",
   "mimetype": "text/x-python",
   "name": "python",
   "nbconvert_exporter": "python",
   "pygments_lexer": "ipython3",
   "version": "3.11.5"
  }
 },
 "nbformat": 4,
 "nbformat_minor": 5
}
