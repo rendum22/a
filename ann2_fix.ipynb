{
 "cells": [
  {
   "cell_type": "code",
   "execution_count": 18,
   "id": "cd28a230-91a1-4002-a8f9-56fc3d3bb71b",
   "metadata": {},
   "outputs": [],
   "source": [
    "import numpy as np"
   ]
  },
  {
   "cell_type": "code",
   "execution_count": 20,
   "id": "313be9a7-0a99-4204-8498-ea89f951b32a",
   "metadata": {},
   "outputs": [],
   "source": [
    "def mp_neuron(inputs, weights, threshold): \n",
    "    net = np.dot(inputs, weights)\n",
    "    return 1 if net >= threshold else 0"
   ]
  },
  {
   "cell_type": "code",
   "execution_count": 22,
   "id": "ad410bab-524b-4ea3-bea4-23f1d7aaad0a",
   "metadata": {},
   "outputs": [],
   "source": [
    "def andnot_nn(inputs): \n",
    "    weights = [1, -1] \n",
    "    threshold = 1\n",
    "    return mp_neuron(inputs, weights, threshold)"
   ]
  },
  {
   "cell_type": "code",
   "execution_count": 24,
   "id": "abf067cc-8825-4f9f-889a-5d2c25984689",
   "metadata": {},
   "outputs": [
    {
     "name": "stdout",
     "output_type": "stream",
     "text": [
      "Inputs:\n",
      " [[0 0]\n",
      " [0 1]\n",
      " [1 0]\n",
      " [1 1]]\n",
      "Outputs: [0, 0, 1, 0]\n"
     ]
    }
   ],
   "source": [
    "inputs = np.array([[0, 0], [0, 1], [1, 0], [1, 1]]) \n",
    "outputs = []\n",
    "\n",
    "for i in range(inputs.shape[0]): \n",
    "    y = andnot_nn(inputs[i])  # input[i] is already 1D\n",
    "    outputs.append(y)\n",
    "\n",
    "print(\"Inputs:\\n\", inputs) \n",
    "print(\"Outputs:\", outputs)"
   ]
  },
  {
   "cell_type": "code",
   "execution_count": null,
   "id": "a81c2f57-d15a-4778-9e82-cdc8d08b4418",
   "metadata": {},
   "outputs": [],
   "source": []
  }
 ],
 "metadata": {
  "kernelspec": {
   "display_name": "Python [conda env:base] *",
   "language": "python",
   "name": "conda-base-py"
  },
  "language_info": {
   "codemirror_mode": {
    "name": "ipython",
    "version": 3
   },
   "file_extension": ".py",
   "mimetype": "text/x-python",
   "name": "python",
   "nbconvert_exporter": "python",
   "pygments_lexer": "ipython3",
   "version": "3.12.7"
  }
 },
 "nbformat": 4,
 "nbformat_minor": 5
}
